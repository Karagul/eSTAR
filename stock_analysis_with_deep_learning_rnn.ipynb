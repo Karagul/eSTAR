{
  "nbformat": 4,
  "nbformat_minor": 0,
  "metadata": {
    "colab": {
      "name": "stock_analysis_with_deep_learning_rnn.ipynb",
      "version": "0.3.2",
      "provenance": [],
      "collapsed_sections": [],
      "include_colab_link": true
    },
    "kernelspec": {
      "display_name": "Python 3",
      "language": "python",
      "name": "python3"
    }
  },
  "cells": [
    {
      "cell_type": "markdown",
      "metadata": {
        "id": "view-in-github",
        "colab_type": "text"
      },
      "source": [
        "<a href=\"https://colab.research.google.com/github/beyondbond/eSTAR/blob/master/stock_analysis_with_deep_learning_rnn.ipynb\" target=\"_parent\"><img src=\"https://colab.research.google.com/assets/colab-badge.svg\" alt=\"Open In Colab\"/></a>"
      ]
    },
    {
      "metadata": {
        "colab_type": "text",
        "id": "ibtUPfM4Lvrk"
      },
      "cell_type": "markdown",
      "source": [
        "# stock_analysis_with_deep_learning_rnn\n",
        "Stock predictions via TF RNN-LSTM like ARIMA -- AR(3) \n"
      ]
    },
    {
      "metadata": {
        "colab_type": "text",
        "id": "5ToZDff0DYYG"
      },
      "cell_type": "markdown",
      "source": [
        "## 1. Import packages and define utility functions"
      ]
    },
    {
      "metadata": {
        "colab_type": "code",
        "id": "u9z81sR6Ht5Z",
        "colab": {},
        "outputId": "96541bab-bb8c-4275-9323-26fe0d69db2f"
      },
      "cell_type": "code",
      "source": [
        "import sys\n",
        "import numpy as np\n",
        "import matplotlib.pyplot as plt\n",
        "import pandas as pd\n",
        "import math\n",
        "import datetime\n",
        "from keras.models import Sequential\n",
        "from keras.layers.recurrent import LSTM\n",
        "from keras.layers.core import Dense, Activation, Dropout\n",
        "from sklearn.preprocessing import MinMaxScaler\n",
        "from sklearn.metrics import mean_squared_error\n",
        "import os\n",
        "\n",
        "def __del__(self):\n",
        "\t# cleanly ignore all exceptions\n",
        "\ttry:\n",
        "\t\tself.close()\n",
        "\texcept Exception: # pylint: disable=broad-except\n",
        "\t\tpass\n",
        "\tif self._session is not None:\n",
        "\t\ttry:\n",
        "\t\t\tstatus = tf_session.TF_NewStatus()\n",
        "\t\t\ttf_session.TF_DeleteDeprecatedSession(self._session, status)\n",
        "\t\tfinally:\n",
        "\t\t\ttf_session.TF_DeleteStatus(status)\n",
        "\t\tself._session = None\n",
        "\n",
        "# convert an array of values into a dataset matrix\n",
        "def create_dataset(dataset, look_back=3,const_YN=0):\n",
        "        dataX, dataY = [], []\n",
        "        for i in range(len(dataset)-look_back):\n",
        "                a = dataset[i:(i+look_back), 0]\n",
        "                if const_YN==1:\n",
        "                        a = np.append(a,1)\n",
        "                dataX.append(a)\n",
        "                dataY.append(dataset[i + look_back, 0])\n",
        "        return np.array(dataX), np.array(dataY)\n",
        "\n",
        "# split into train and test sets\n",
        "def train_test_split(data,look_back=3,const_YN=1, train_ratio=0.85):\n",
        "        X_raw, y_raw = create_dataset(data,look_back,const_YN=const_YN)\n",
        "        train_size = int(len(dataset) * train_ratio)\n",
        "        test_size = len(dataset) - train_size\n",
        "        X_train, X_test = X_raw[0:train_size], X_raw[train_size:]\n",
        "        y_train, y_test = y_raw[0:train_size], y_raw[train_size:]\n",
        "        return (X_train, y_train), (X_test, y_test)\n"
      ],
      "execution_count": 0,
      "outputs": [
        {
          "output_type": "stream",
          "text": [
            "Using TensorFlow backend.\n"
          ],
          "name": "stderr"
        }
      ]
    },
    {
      "metadata": {
        "colab_type": "text",
        "id": "DiC_nbMpJa6d"
      },
      "cell_type": "markdown",
      "source": [
        "## 2. Load Data"
      ]
    },
    {
      "metadata": {
        "colab_type": "code",
        "id": "nGFTv9cnJ8JD",
        "colab": {}
      },
      "cell_type": "code",
      "source": [
        "os.environ['TZ']='America/New_York'\n",
        "params={\"nb_epoch\": 60, \"batch_size\": 18, \"look_back\": 3, \"train_ratio\": 0.8, \"dropout_keep_prob\": 0.1 ,\"const_YN\":1}\n",
        "for ky,va in params.items():\n",
        "        exec(\"{}=va\".format(ky))\n",
        "\n",
        "# fix random seed for reproducibility\n",
        "np.random.seed(7)\n",
        "# load the dataset\n",
        "# df = pd.read_csv('spy.csv')\n",
        "# load data from yahoo\n",
        "ticker='SPY'\n",
        "urx=\"https://query1.finance.yahoo.com/v8/finance/chart/{}?region=US&lang=en-US&includePrePost=false&interval={}&period2={}\"\n",
        "period2=datetime.datetime.today().date().strftime('%s')\n",
        "url = urx.format(ticker,'1m',period2)\n",
        "jTmp = pd.read_json(url)['chart']['result'][0]\n",
        "pbdatetime = [ datetime.datetime.fromtimestamp(int(x)) for x in jTmp['timestamp'] ]\n",
        "df=pd.DataFrame(jTmp['indicators']['quote'][0])\n",
        "df['price']=df['close']\n",
        "df['datetime']=pbdatetime\n",
        "df.dropna(inplace=True)\n"
      ],
      "execution_count": 0,
      "outputs": []
    },
    {
      "metadata": {
        "colab_type": "text",
        "id": "HEgbr98zLGPl"
      },
      "cell_type": "markdown",
      "source": [
        "## 3. Normalize the dataset"
      ]
    },
    {
      "metadata": {
        "colab_type": "code",
        "id": "WB4v3sf2KEec",
        "colab": {}
      },
      "cell_type": "code",
      "source": [
        "# normalize the dataset\n",
        "dataset = df['price'].values\n",
        "dataset = dataset.reshape(len(dataset),1)\n",
        "scaler = MinMaxScaler(feature_range=(0, 1))\n",
        "dataset = scaler.fit_transform(dataset)"
      ],
      "execution_count": 0,
      "outputs": []
    },
    {
      "metadata": {
        "colab_type": "text",
        "id": "yUVvi-cnLFiq"
      },
      "cell_type": "markdown",
      "source": [
        "## 4. Split data into train and test sets"
      ]
    },
    {
      "metadata": {
        "colab_type": "code",
        "id": "TYGaDMcFKGDT",
        "colab": {}
      },
      "cell_type": "code",
      "source": [
        "# split into train and test sets\n",
        "(X_train,y_train),(X_test,y_test) = train_test_split(dataset,look_back,const_YN, train_ratio=train_ratio)\n",
        "# reshape input to be [samples, time steps, features]\n",
        "X_train = np.reshape(X_train, (X_train.shape[0], X_train.shape[1], 1))\n",
        "X_test = np.reshape(X_test, (X_test.shape[0], X_test.shape[1], 1))\n"
      ],
      "execution_count": 0,
      "outputs": []
    },
    {
      "metadata": {
        "colab_type": "code",
        "id": "0hevL2fyKE_b",
        "outputId": "3f45a93c-5340-4a7e-d532-419164c096bb",
        "colab": {
          "base_uri": "https://localhost:8080/",
          "height": 35
        }
      },
      "cell_type": "code",
      "source": [
        "# Simplier model than in initial post\n",
        "in_unit = X_train.shape[1]\n",
        "out_unit = y_train.shape[-1]\n",
        "hidden_unit = look_back+const_YN\n",
        "print(X_train.shape,X_test.shape)"
      ],
      "execution_count": 0,
      "outputs": [
        {
          "output_type": "stream",
          "text": [
            "(240, 4, 1) (57, 4, 1)\n"
          ],
          "name": "stdout"
        }
      ]
    },
    {
      "metadata": {
        "colab_type": "text",
        "id": "HJj7nmWoLUib"
      },
      "cell_type": "markdown",
      "source": [
        "## 4. Fitting RNN with LSTM"
      ]
    },
    {
      "metadata": {
        "colab_type": "code",
        "id": "bDfeBYELKFY0",
        "outputId": "f96914dd-1281-4834-a14c-dc2232341004",
        "colab": {
          "base_uri": "https://localhost:8080/",
          "height": 2115
        }
      },
      "cell_type": "code",
      "source": [
        "# create and fit the LSTM network\n",
        "model = Sequential()\n",
        "model.add(LSTM(units=4, return_sequences=True, input_shape=(4, 1)))\n",
        "model.add(LSTM(hidden_unit,return_sequences=False))\n",
        "model.add(Dropout(dropout_keep_prob))\n",
        "model.add(Dense(1))\n",
        "model.compile(loss='mean_squared_error', optimizer='adam')\n",
        "model.fit(X_train, y_train, epochs=nb_epoch, batch_size=batch_size, verbose=1, shuffle=False)\n"
      ],
      "execution_count": 0,
      "outputs": [
        {
          "output_type": "stream",
          "text": [
            "Epoch 1/60\n",
            "240/240 [==============================] - 1s 3ms/step - loss: 0.2858\n",
            "Epoch 2/60\n",
            "240/240 [==============================] - 0s 182us/step - loss: 0.2486\n",
            "Epoch 3/60\n",
            "240/240 [==============================] - 0s 192us/step - loss: 0.2169\n",
            "Epoch 4/60\n",
            "240/240 [==============================] - 0s 187us/step - loss: 0.1773\n",
            "Epoch 5/60\n",
            "240/240 [==============================] - 0s 188us/step - loss: 0.1499\n",
            "Epoch 6/60\n",
            "240/240 [==============================] - 0s 196us/step - loss: 0.1195\n",
            "Epoch 7/60\n",
            "240/240 [==============================] - 0s 190us/step - loss: 0.0932\n",
            "Epoch 8/60\n",
            "240/240 [==============================] - 0s 187us/step - loss: 0.0739\n",
            "Epoch 9/60\n",
            "240/240 [==============================] - 0s 198us/step - loss: 0.0673\n",
            "Epoch 10/60\n",
            "240/240 [==============================] - 0s 189us/step - loss: 0.0545\n",
            "Epoch 11/60\n",
            "240/240 [==============================] - 0s 188us/step - loss: 0.0468\n",
            "Epoch 12/60\n",
            "240/240 [==============================] - 0s 189us/step - loss: 0.0409\n",
            "Epoch 13/60\n",
            "240/240 [==============================] - 0s 187us/step - loss: 0.0469\n",
            "Epoch 14/60\n",
            "240/240 [==============================] - 0s 188us/step - loss: 0.0408\n",
            "Epoch 15/60\n",
            "240/240 [==============================] - 0s 188us/step - loss: 0.0444\n",
            "Epoch 16/60\n",
            "240/240 [==============================] - 0s 183us/step - loss: 0.0427\n",
            "Epoch 17/60\n",
            "240/240 [==============================] - 0s 199us/step - loss: 0.0468\n",
            "Epoch 18/60\n",
            "240/240 [==============================] - 0s 187us/step - loss: 0.0380\n",
            "Epoch 19/60\n",
            "240/240 [==============================] - 0s 187us/step - loss: 0.0336\n",
            "Epoch 20/60\n",
            "240/240 [==============================] - 0s 185us/step - loss: 0.0388\n",
            "Epoch 21/60\n",
            "240/240 [==============================] - 0s 189us/step - loss: 0.0380\n",
            "Epoch 22/60\n",
            "240/240 [==============================] - 0s 180us/step - loss: 0.0335\n",
            "Epoch 23/60\n",
            "240/240 [==============================] - 0s 180us/step - loss: 0.0346\n",
            "Epoch 24/60\n",
            "240/240 [==============================] - 0s 183us/step - loss: 0.0311\n",
            "Epoch 25/60\n",
            "240/240 [==============================] - 0s 186us/step - loss: 0.0348\n",
            "Epoch 26/60\n",
            "240/240 [==============================] - 0s 181us/step - loss: 0.0340\n",
            "Epoch 27/60\n",
            "240/240 [==============================] - 0s 185us/step - loss: 0.0342\n",
            "Epoch 28/60\n",
            "240/240 [==============================] - 0s 188us/step - loss: 0.0341\n",
            "Epoch 29/60\n",
            "240/240 [==============================] - 0s 186us/step - loss: 0.0321\n",
            "Epoch 30/60\n",
            "240/240 [==============================] - 0s 187us/step - loss: 0.0290\n",
            "Epoch 31/60\n",
            "240/240 [==============================] - 0s 187us/step - loss: 0.0337\n",
            "Epoch 32/60\n",
            "240/240 [==============================] - 0s 181us/step - loss: 0.0261\n",
            "Epoch 33/60\n",
            "240/240 [==============================] - 0s 184us/step - loss: 0.0239\n",
            "Epoch 34/60\n",
            "240/240 [==============================] - 0s 181us/step - loss: 0.0251\n",
            "Epoch 35/60\n",
            "240/240 [==============================] - 0s 185us/step - loss: 0.0282\n",
            "Epoch 36/60\n",
            "240/240 [==============================] - 0s 191us/step - loss: 0.0249\n",
            "Epoch 37/60\n",
            "240/240 [==============================] - 0s 185us/step - loss: 0.0237\n",
            "Epoch 38/60\n",
            "240/240 [==============================] - 0s 184us/step - loss: 0.0192\n",
            "Epoch 39/60\n",
            "240/240 [==============================] - 0s 182us/step - loss: 0.0230\n",
            "Epoch 40/60\n",
            "240/240 [==============================] - 0s 184us/step - loss: 0.0222\n",
            "Epoch 41/60\n",
            "240/240 [==============================] - 0s 188us/step - loss: 0.0250\n",
            "Epoch 42/60\n",
            "240/240 [==============================] - 0s 194us/step - loss: 0.0245\n",
            "Epoch 43/60\n",
            "240/240 [==============================] - 0s 181us/step - loss: 0.0150\n",
            "Epoch 44/60\n",
            "240/240 [==============================] - 0s 181us/step - loss: 0.0246\n",
            "Epoch 45/60\n",
            "240/240 [==============================] - 0s 186us/step - loss: 0.0187\n",
            "Epoch 46/60\n",
            "240/240 [==============================] - 0s 181us/step - loss: 0.0160\n",
            "Epoch 47/60\n",
            "240/240 [==============================] - 0s 189us/step - loss: 0.0143\n",
            "Epoch 48/60\n",
            "240/240 [==============================] - 0s 184us/step - loss: 0.0175\n",
            "Epoch 49/60\n",
            "240/240 [==============================] - 0s 183us/step - loss: 0.0173\n",
            "Epoch 50/60\n",
            "240/240 [==============================] - 0s 189us/step - loss: 0.0225\n",
            "Epoch 51/60\n",
            "240/240 [==============================] - 0s 183us/step - loss: 0.0141\n",
            "Epoch 52/60\n",
            "240/240 [==============================] - 0s 183us/step - loss: 0.0139\n",
            "Epoch 53/60\n",
            "240/240 [==============================] - 0s 195us/step - loss: 0.0179\n",
            "Epoch 54/60\n",
            "240/240 [==============================] - 0s 188us/step - loss: 0.0160\n",
            "Epoch 55/60\n",
            "240/240 [==============================] - 0s 183us/step - loss: 0.0137\n",
            "Epoch 56/60\n",
            "240/240 [==============================] - 0s 186us/step - loss: 0.0143\n",
            "Epoch 57/60\n",
            "240/240 [==============================] - 0s 182us/step - loss: 0.0130\n",
            "Epoch 58/60\n",
            "240/240 [==============================] - 0s 188us/step - loss: 0.0123\n",
            "Epoch 59/60\n",
            "240/240 [==============================] - 0s 188us/step - loss: 0.0158\n",
            "Epoch 60/60\n",
            "240/240 [==============================] - 0s 182us/step - loss: 0.0123\n"
          ],
          "name": "stdout"
        },
        {
          "output_type": "execute_result",
          "data": {
            "text/plain": [
              "<keras.callbacks.History at 0x7fcded4b4e10>"
            ]
          },
          "metadata": {
            "tags": []
          },
          "execution_count": 6
        }
      ]
    },
    {
      "metadata": {
        "colab_type": "text",
        "id": "4voYLxnDLZ3P"
      },
      "cell_type": "markdown",
      "source": [
        "## 5. Making the predictions"
      ]
    },
    {
      "metadata": {
        "colab_type": "code",
        "id": "fgQCBPP8KFtE",
        "outputId": "1d0a2b06-7132-4c56-c321-4ea86c8b11ca",
        "colab": {
          "base_uri": "https://localhost:8080/",
          "height": 52
        }
      },
      "cell_type": "code",
      "source": [
        "# make predictions\n",
        "pred_train = model.predict(X_train, batch_size=batch_size)\n",
        "model.reset_states()\n",
        "pred_test = model.predict(X_test, batch_size=batch_size)\n",
        "# invert predictions\n",
        "pred_train = scaler.inverse_transform(pred_train)\n",
        "pred_y = scaler.inverse_transform([y_train])\n",
        "pred_test = scaler.inverse_transform(pred_test)\n",
        "act_test = scaler.inverse_transform([y_test])\n",
        "# calculate root mean squared error\n",
        "trainScore = math.sqrt(mean_squared_error(pred_y[0], pred_train[:,0]))\n",
        "print('Train Score: %.2f RMSE' % (trainScore))\n",
        "testScore = math.sqrt(mean_squared_error(act_test[0], pred_test[:,0]))\n",
        "print('Test Score: %.2f RMSE' % (testScore))\n"
      ],
      "execution_count": 0,
      "outputs": [
        {
          "output_type": "stream",
          "text": [
            "Train Score: 0.09 RMSE\n",
            "Test Score: 0.05 RMSE\n"
          ],
          "name": "stdout"
        }
      ]
    },
    {
      "metadata": {
        "colab_type": "text",
        "id": "nxncjbqhLdCV"
      },
      "cell_type": "markdown",
      "source": [
        "## 6. Plotting the baseline and predictions"
      ]
    },
    {
      "metadata": {
        "colab_type": "code",
        "id": "bENhOPu7KHzT",
        "outputId": "f405715c-dce3-48a4-aa5f-d283a739e2d5",
        "colab": {
          "base_uri": "https://localhost:8080/",
          "height": 373
        }
      },
      "cell_type": "code",
      "source": [
        "# plot baseline and predictions\n",
        "pred_data=np.append(pred_train,pred_test)\n",
        "ntrain=len(pred_train)\n",
        "nobs=len(pred_data)\n",
        "act_data=scaler.inverse_transform(dataset)[-nobs:]\n",
        "actFitFcs=pd.DataFrame(np.column_stack([act_data,pred_data]),columns=['act','fit'])\n",
        "actFitFcs['fcs']=actFitFcs['fit']\n",
        "actFitFcs['fit'].iloc[ntrain:]=np.nan\n",
        "actFitFcs['fcs'].iloc[:ntrain]=np.nan\n",
        "#idxtm=map(lambda x:datetime.datetime.strptime(str(x),\"%Y%m%d\"),df['pbdate'].iloc[-nobs:])\n",
        "idxtm=df['datetime'].iloc[-nobs:]\n",
        "actFitFcs.set_index(pd.DatetimeIndex(idxtm),inplace=True)\n",
        "title='{} @ {}'.format(ticker,idxtm.iloc[-1])\n",
        "actFitFcs.iloc[-nobs+5:].plot(title=title)\n",
        "plt.show()\n"
      ],
      "execution_count": 0,
      "outputs": [
        {
          "output_type": "display_data",
          "data": {
            "image/png": "[encoded data removed]",
            "text/plain": [
              "<Figure size 432x288 with 1 Axes>"
            ]
          },
          "metadata": {
            "tags": [],
            "needs_background": "light"
          }
        }
      ]
    }
  ]
}